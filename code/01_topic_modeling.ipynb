{
 "cells": [
  {
   "cell_type": "markdown",
   "id": "4d3f68e0",
   "metadata": {
    "id": "4d3f68e0"
   },
   "source": [
    "# Final Project: Text Analysis and Uncovering Demographic or Regional Differences in Family Caregiver Experiences\n",
    "\n",
    "### *May Khine, Andrea Robang, Mark Lekina*\n",
    "\n",
    "## Topic modeling notebook"
   ]
  },
  {
   "cell_type": "markdown",
   "id": "bf63fdbd",
   "metadata": {
    "id": "bf63fdbd"
   },
   "source": [
    "### Load packages"
   ]
  },
  {
   "cell_type": "code",
   "execution_count": 1,
   "id": "ce4efc56",
   "metadata": {
    "colab": {
     "base_uri": "https://localhost:8080/"
    },
    "id": "ce4efc56",
    "outputId": "6eb86d4f-d59a-459d-9d23-25e7f4a10df5"
   },
   "outputs": [],
   "source": [
    "## helpful packages\n",
    "import pandas as pd\n",
    "import numpy as np\n",
    "import random\n",
    "import re\n",
    "import nltk\n",
    "import spacy\n",
    "import en_core_web_sm\n",
    "import gensim\n",
    "import scipy as sp\n",
    "from scipy.special import logsumexp\n",
    "import matplotlib.pyplot as plt\n",
    "from gensim.models.coherencemodel import CoherenceModel\n",
    "\n",
    "\n",
    "## vectorizer\n",
    "from sklearn.feature_extraction.text import CountVectorizer\n",
    "\n",
    "## sentiment\n",
    "from vaderSentiment.vaderSentiment import SentimentIntensityAnalyzer\n",
    "\n",
    "## lda\n",
    "from gensim import corpora\n",
    "\n",
    "## nltk imports\n",
    "from nltk.tokenize import word_tokenize, wordpunct_tokenize\n",
    "from nltk.corpus import stopwords\n",
    "from nltk.stem.porter import PorterStemmer\n",
    "from nltk import pos_tag\n",
    "from nltk.tokenize import word_tokenize, wordpunct_tokenize\n",
    "from nltk.stem.snowball import SnowballStemmer\n",
    "from nltk.corpus import stopwords\n",
    "\n",
    "## load pipeline\n",
    "nlp = en_core_web_sm.load()\n",
    "\n",
    "## repeated printouts and wide-format text\n",
    "from IPython.core.interactiveshell import InteractiveShell\n",
    "InteractiveShell.ast_node_interactivity = \"all\"\n",
    "pd.set_option('display.max_colwidth', None)"
   ]
  },
  {
   "cell_type": "markdown",
   "id": "2ead108a",
   "metadata": {
    "id": "2ead108a"
   },
   "source": [
    "### Load Data"
   ]
  },
  {
   "cell_type": "code",
   "execution_count": 2,
   "id": "226e2d93",
   "metadata": {
    "colab": {
     "base_uri": "https://localhost:8080/",
     "height": 1000
    },
    "id": "226e2d93",
    "outputId": "3c231ffe-534f-4c48-a117-c1134f336864"
   },
   "outputs": [],
   "source": [
    "# read data from excel file\n",
    "data = pd.read_excel(\"../data/STARTFEISData.xlsx\")"
   ]
  },
  {
   "cell_type": "markdown",
   "id": "be39623a",
   "metadata": {},
   "source": [
    "### Data cleaning"
   ]
  },
  {
   "cell_type": "code",
   "execution_count": 3,
   "id": "0d1399f7",
   "metadata": {},
   "outputs": [],
   "source": [
    "# Replace \"â€™\" with apostrophe(')\n",
    "data.columns = data.columns.astype(\"string\")\n",
    "data.columns = data.columns.str.replace(\"â€™\", \"'\")\n",
    "\n",
    "# Replace \"\\n\" with a space(\" \")\n",
    "data.columns = data.columns.str.replace(\"\\n\", \" \")\n",
    "\n",
    "## subset to columns with open responses\n",
    "open_cols = [0,54,55,56]\n",
    "open_data = data.iloc[:, open_cols].copy()"
   ]
  },
  {
   "cell_type": "markdown",
   "id": "ded0c660",
   "metadata": {
    "id": "ded0c660"
   },
   "source": [
    "### Print head, dimensions"
   ]
  },
  {
   "cell_type": "code",
   "execution_count": 4,
   "id": "97f0e7ec",
   "metadata": {},
   "outputs": [
    {
     "data": {
      "text/plain": [
       "(1940, 4)"
      ]
     },
     "execution_count": 4,
     "metadata": {},
     "output_type": "execute_result"
    },
    {
     "data": {
      "text/html": [
       "<div>\n",
       "<style scoped>\n",
       "    .dataframe tbody tr th:only-of-type {\n",
       "        vertical-align: middle;\n",
       "    }\n",
       "\n",
       "    .dataframe tbody tr th {\n",
       "        vertical-align: top;\n",
       "    }\n",
       "\n",
       "    .dataframe thead th {\n",
       "        text-align: right;\n",
       "    }\n",
       "</style>\n",
       "<table border=\"1\" class=\"dataframe\">\n",
       "  <thead>\n",
       "    <tr style=\"text-align: right;\">\n",
       "      <th></th>\n",
       "      <th>Respondent ID #  (SIRS Local ID)</th>\n",
       "      <th>Was there any particular service that your family member needed that was not available?</th>\n",
       "      <th>If yes, please describe the service.</th>\n",
       "      <th>What advice would you give to service planners regarding the mental health service needs of persons with IDD and their families?</th>\n",
       "    </tr>\n",
       "  </thead>\n",
       "  <tbody>\n",
       "    <tr>\n",
       "      <th>0</th>\n",
       "      <td>43.0962</td>\n",
       "      <td>Yes</td>\n",
       "      <td>Crisis respite</td>\n",
       "      <td>None provided</td>\n",
       "    </tr>\n",
       "    <tr>\n",
       "      <th>1</th>\n",
       "      <td>1903</td>\n",
       "      <td>Yes</td>\n",
       "      <td>EMERGENCY RESPITE SERVICES &amp; CRISIS INTERVENTION</td>\n",
       "      <td>PROVDE REFERRALS FOR EMERGENCY RESPITE SERVICES; JOB SUPPORT FOR ID CONSUMERS</td>\n",
       "    </tr>\n",
       "    <tr>\n",
       "      <th>2</th>\n",
       "      <td>2425</td>\n",
       "      <td>No</td>\n",
       "      <td>NaN</td>\n",
       "      <td>NaN</td>\n",
       "    </tr>\n",
       "    <tr>\n",
       "      <th>3</th>\n",
       "      <td>4068</td>\n",
       "      <td>No</td>\n",
       "      <td>NaN</td>\n",
       "      <td>NaN</td>\n",
       "    </tr>\n",
       "    <tr>\n",
       "      <th>4</th>\n",
       "      <td>4298</td>\n",
       "      <td>Yes</td>\n",
       "      <td>Crisis Response</td>\n",
       "      <td>NaN</td>\n",
       "    </tr>\n",
       "  </tbody>\n",
       "</table>\n",
       "</div>"
      ],
      "text/plain": [
       "  Respondent ID #  (SIRS Local ID)                                                                                                  \\\n",
       "0                                                                                                                          43.0962   \n",
       "1                                                                                                                             1903   \n",
       "2                                                                                                                             2425   \n",
       "3                                                                                                                             4068   \n",
       "4                                                                                                                             4298   \n",
       "\n",
       "  Was there any particular service that your family member needed that was not available?                                           \\\n",
       "0                                                                                                                              Yes   \n",
       "1                                                                                                                              Yes   \n",
       "2                                                                                                                               No   \n",
       "3                                                                                                                               No   \n",
       "4                                                                                                                              Yes   \n",
       "\n",
       "  If yes, please describe the service.                                                                                              \\\n",
       "0                                                                                                                   Crisis respite   \n",
       "1                                                                                 EMERGENCY RESPITE SERVICES & CRISIS INTERVENTION   \n",
       "2                                                                                                                              NaN   \n",
       "3                                                                                                                              NaN   \n",
       "4                                                                                                                  Crisis Response   \n",
       "\n",
       "  What advice would you give to service planners regarding the mental health service needs of persons with IDD and their families?  \n",
       "0                                                                                                                    None provided  \n",
       "1                                                    PROVDE REFERRALS FOR EMERGENCY RESPITE SERVICES; JOB SUPPORT FOR ID CONSUMERS  \n",
       "2                                                                                                                              NaN  \n",
       "3                                                                                                                              NaN  \n",
       "4                                                                                                                              NaN  "
      ]
     },
     "execution_count": 4,
     "metadata": {},
     "output_type": "execute_result"
    }
   ],
   "source": [
    "open_data.shape\n",
    "open_data.head()"
   ]
  },
  {
   "cell_type": "markdown",
   "id": "bd7eae0f",
   "metadata": {
    "id": "bd7eae0f"
   },
   "source": [
    "### Topic modeling on the open data dataframe"
   ]
  },
  {
   "cell_type": "markdown",
   "id": "0ecf4654",
   "metadata": {
    "id": "0ecf4654"
   },
   "source": [
    "1. What were the common responses for respondents who indicated that a service wasn't available?"
   ]
  },
  {
   "cell_type": "code",
   "execution_count": 5,
   "id": "d48a6403",
   "metadata": {
    "id": "d48a6403"
   },
   "outputs": [
    {
     "data": {
      "text/html": [
       "<div>\n",
       "<style scoped>\n",
       "    .dataframe tbody tr th:only-of-type {\n",
       "        vertical-align: middle;\n",
       "    }\n",
       "\n",
       "    .dataframe tbody tr th {\n",
       "        vertical-align: top;\n",
       "    }\n",
       "\n",
       "    .dataframe thead th {\n",
       "        text-align: right;\n",
       "    }\n",
       "</style>\n",
       "<table border=\"1\" class=\"dataframe\">\n",
       "  <thead>\n",
       "    <tr style=\"text-align: right;\">\n",
       "      <th></th>\n",
       "      <th>ID</th>\n",
       "      <th>In_Need</th>\n",
       "      <th>Service</th>\n",
       "      <th>Advice</th>\n",
       "    </tr>\n",
       "  </thead>\n",
       "  <tbody>\n",
       "    <tr>\n",
       "      <th>0</th>\n",
       "      <td>43.0962</td>\n",
       "      <td>Yes</td>\n",
       "      <td>Crisis respite</td>\n",
       "      <td>None provided</td>\n",
       "    </tr>\n",
       "    <tr>\n",
       "      <th>1</th>\n",
       "      <td>1903</td>\n",
       "      <td>Yes</td>\n",
       "      <td>EMERGENCY RESPITE SERVICES &amp; CRISIS INTERVENTION</td>\n",
       "      <td>PROVDE REFERRALS FOR EMERGENCY RESPITE SERVICES; JOB SUPPORT FOR ID CONSUMERS</td>\n",
       "    </tr>\n",
       "    <tr>\n",
       "      <th>4</th>\n",
       "      <td>4298</td>\n",
       "      <td>Yes</td>\n",
       "      <td>Crisis Response</td>\n",
       "      <td>NaN</td>\n",
       "    </tr>\n",
       "    <tr>\n",
       "      <th>7</th>\n",
       "      <td>8799</td>\n",
       "      <td>Yes</td>\n",
       "      <td>would liek to have a medication eval</td>\n",
       "      <td>would like consultation with family before announcing prognosis to consumer</td>\n",
       "    </tr>\n",
       "    <tr>\n",
       "      <th>9</th>\n",
       "      <td>10045</td>\n",
       "      <td>Yes</td>\n",
       "      <td>community habilitation/big brother</td>\n",
       "      <td>nothing. they are doing the best that they can.  It would be good for him to get out of the house more. we need help with transportation to help us get back into respite.</td>\n",
       "    </tr>\n",
       "  </tbody>\n",
       "</table>\n",
       "</div>"
      ],
      "text/plain": [
       "        ID In_Need                                           Service  \\\n",
       "0  43.0962     Yes                                    Crisis respite   \n",
       "1     1903     Yes  EMERGENCY RESPITE SERVICES & CRISIS INTERVENTION   \n",
       "4     4298     Yes                                   Crisis Response   \n",
       "7     8799     Yes              would liek to have a medication eval   \n",
       "9    10045     Yes                community habilitation/big brother   \n",
       "\n",
       "                                                                                                                                                                        Advice  \n",
       "0                                                                                                                                                                None provided  \n",
       "1                                                                                                PROVDE REFERRALS FOR EMERGENCY RESPITE SERVICES; JOB SUPPORT FOR ID CONSUMERS  \n",
       "4                                                                                                                                                                          NaN  \n",
       "7                                                                                                  would like consultation with family before announcing prognosis to consumer  \n",
       "9  nothing. they are doing the best that they can.  It would be good for him to get out of the house more. we need help with transportation to help us get back into respite.   "
      ]
     },
     "execution_count": 5,
     "metadata": {},
     "output_type": "execute_result"
    }
   ],
   "source": [
    "# See unique values from those who answered No and Yes to quickly check if there are other answers\n",
    "open_data_need = open_data.groupby(\n",
    "    \"Was there any particular service that your family member needed that was not available?\").agg(\n",
    "    {\"If yes, please describe the service.\" : \"unique\"})\n",
    "\n",
    "# Subset to those who answered Yes \n",
    "open_data_need = open_data.loc[open_data[\"Was there any particular service that your family member needed that was not available?\"] == \"Yes\"].copy()\n",
    "\n",
    "# Rename columns to make things easier\n",
    "open_data_need.columns = [\"ID\", \"In_Need\", \"Service\", \"Advice\"]\n",
    "\n",
    "open_data_need.head()"
   ]
  },
  {
   "cell_type": "markdown",
   "id": "0f6f5f33",
   "metadata": {
    "id": "0f6f5f33"
   },
   "source": [
    "2. Write a preprocessing function to remove stopwords and apply it to the `Advice` column."
   ]
  },
  {
   "cell_type": "code",
   "execution_count": 6,
   "id": "398b8578",
   "metadata": {},
   "outputs": [],
   "source": [
    "## Get stopwords\n",
    "list_stopwords = stopwords.words(\"english\")\n",
    "\n",
    "## Initialize stemmer\n",
    "porter = PorterStemmer()"
   ]
  },
  {
   "cell_type": "code",
   "execution_count": 7,
   "id": "226efcfe",
   "metadata": {},
   "outputs": [],
   "source": [
    "## Define function to iterate through all responses \n",
    "def process_step(string):   \n",
    "    try:\n",
    "        nostop_listing = [word for word in wordpunct_tokenize(string)\n",
    "                          if word not in list_stopwords]\n",
    "        clean_listing = [porter.stem(word) for word in nostop_listing\n",
    "                         if word.isalpha() \n",
    "                         and len(word) > 4]    # Can change length of word here \n",
    "        clean_listing_str = \" \".join(clean_listing)    \n",
    "        return(clean_listing_str)\n",
    "    \n",
    "    except:\n",
    "        return(\"\")"
   ]
  },
  {
   "cell_type": "code",
   "execution_count": 8,
   "id": "f56de067",
   "metadata": {
    "colab": {
     "base_uri": "https://localhost:8080/",
     "height": 661
    },
    "id": "f56de067",
    "outputId": "b3a5f086-0ed2-4a48-f203-73c4745a103a"
   },
   "outputs": [
    {
     "data": {
      "text/html": [
       "<div>\n",
       "<style scoped>\n",
       "    .dataframe tbody tr th:only-of-type {\n",
       "        vertical-align: middle;\n",
       "    }\n",
       "\n",
       "    .dataframe tbody tr th {\n",
       "        vertical-align: top;\n",
       "    }\n",
       "\n",
       "    .dataframe thead th {\n",
       "        text-align: right;\n",
       "    }\n",
       "</style>\n",
       "<table border=\"1\" class=\"dataframe\">\n",
       "  <thead>\n",
       "    <tr style=\"text-align: right;\">\n",
       "      <th></th>\n",
       "      <th>ID</th>\n",
       "      <th>In_Need</th>\n",
       "      <th>Service</th>\n",
       "      <th>Advice</th>\n",
       "      <th>proc_advice</th>\n",
       "    </tr>\n",
       "  </thead>\n",
       "  <tbody>\n",
       "    <tr>\n",
       "      <th>0</th>\n",
       "      <td>43.0962</td>\n",
       "      <td>Yes</td>\n",
       "      <td>Crisis respite</td>\n",
       "      <td>None provided</td>\n",
       "      <td>provid</td>\n",
       "    </tr>\n",
       "    <tr>\n",
       "      <th>1</th>\n",
       "      <td>1903</td>\n",
       "      <td>Yes</td>\n",
       "      <td>EMERGENCY RESPITE SERVICES &amp; CRISIS INTERVENTION</td>\n",
       "      <td>PROVDE REFERRALS FOR EMERGENCY RESPITE SERVICES; JOB SUPPORT FOR ID CONSUMERS</td>\n",
       "      <td>provd referr emerg respit servic support consum</td>\n",
       "    </tr>\n",
       "    <tr>\n",
       "      <th>4</th>\n",
       "      <td>4298</td>\n",
       "      <td>Yes</td>\n",
       "      <td>Crisis Response</td>\n",
       "      <td>NaN</td>\n",
       "      <td></td>\n",
       "    </tr>\n",
       "    <tr>\n",
       "      <th>7</th>\n",
       "      <td>8799</td>\n",
       "      <td>Yes</td>\n",
       "      <td>would liek to have a medication eval</td>\n",
       "      <td>would like consultation with family before announcing prognosis to consumer</td>\n",
       "      <td>would consult famili announc prognosi consum</td>\n",
       "    </tr>\n",
       "    <tr>\n",
       "      <th>9</th>\n",
       "      <td>10045</td>\n",
       "      <td>Yes</td>\n",
       "      <td>community habilitation/big brother</td>\n",
       "      <td>nothing. they are doing the best that they can.  It would be good for him to get out of the house more. we need help with transportation to help us get back into respite.</td>\n",
       "      <td>noth would hous transport respit</td>\n",
       "    </tr>\n",
       "  </tbody>\n",
       "</table>\n",
       "</div>"
      ],
      "text/plain": [
       "        ID In_Need                                           Service  \\\n",
       "0  43.0962     Yes                                    Crisis respite   \n",
       "1     1903     Yes  EMERGENCY RESPITE SERVICES & CRISIS INTERVENTION   \n",
       "4     4298     Yes                                   Crisis Response   \n",
       "7     8799     Yes              would liek to have a medication eval   \n",
       "9    10045     Yes                community habilitation/big brother   \n",
       "\n",
       "                                                                                                                                                                        Advice  \\\n",
       "0                                                                                                                                                                None provided   \n",
       "1                                                                                                PROVDE REFERRALS FOR EMERGENCY RESPITE SERVICES; JOB SUPPORT FOR ID CONSUMERS   \n",
       "4                                                                                                                                                                          NaN   \n",
       "7                                                                                                  would like consultation with family before announcing prognosis to consumer   \n",
       "9  nothing. they are doing the best that they can.  It would be good for him to get out of the house more. we need help with transportation to help us get back into respite.    \n",
       "\n",
       "                                       proc_advice  \n",
       "0                                           provid  \n",
       "1  provd referr emerg respit servic support consum  \n",
       "4                                                   \n",
       "7     would consult famili announc prognosi consum  \n",
       "9                 noth would hous transport respit  "
      ]
     },
     "execution_count": 8,
     "metadata": {},
     "output_type": "execute_result"
    }
   ],
   "source": [
    "## Convert advice column to lowercase and a list\n",
    "service_advice = open_data_need.Advice.str.lower().to_list()\n",
    "\n",
    "# call function to preprocess each response\n",
    "cleaned_listings = np.array([process_step(one_listing) for one_listing in \n",
    "                    service_advice])\n",
    "\n",
    "# ## Add processed strings back to dataframe\n",
    "open_data_need[\"proc_advice\"] = open_data_need.Advice.apply(process_step)\n",
    "open_data_need.head()"
   ]
  },
  {
   "cell_type": "markdown",
   "id": "fad5142c",
   "metadata": {},
   "source": [
    "### Functions for topic modelling"
   ]
  },
  {
   "cell_type": "code",
   "execution_count": 9,
   "id": "0649509f",
   "metadata": {},
   "outputs": [],
   "source": [
    "def prep_topicdata(df):\n",
    "    # filtering out empty strings, words that do not appear in many documents\n",
    "    df = df[df.proc_advice != \"\"].copy()\n",
    "    tokenized_text = [wordpunct_tokenize(one_text) for one_text in \n",
    "                                      df.proc_advice]\n",
    "    text_proc_dict = corpora.Dictionary(tokenized_text)\n",
    "    text_proc_dict.filter_extremes(no_below = round(df.shape[0]*0.02),\n",
    "                             no_above = round(df.shape[0]*0.98))\n",
    "    \n",
    "    corpus_fromdict_proc = [text_proc_dict.doc2bow(one_text) \n",
    "                   for one_text in tokenized_text]\n",
    "\n",
    "    return tokenized_text, text_proc_dict, corpus_fromdict_proc\n",
    "\n",
    "def topic_model(tokenized_text, text_proc_dict, corpus_fromdict_proc, topic_num):\n",
    "        \n",
    "    # create model\n",
    "    ldamod = gensim.models.ldamodel.LdaModel(corpus_fromdict_proc, \n",
    "                                         num_topics = topic_num, id2word=text_proc_dict, \n",
    "                                         passes=6, alpha = 'auto',\n",
    "                                        per_word_topics = True, random_state = 0)\n",
    "\n",
    "    # get topics using frex values\n",
    "    frex_words = create_topic_word_data(ldamod, corpus_fromdict_proc, frex_w=0.7)\n",
    "\n",
    "    # get top 10 words per topic and collect in a list\n",
    "    frex_topwords = frex_words.sort_values(['frex'], axis=0, ascending = False).groupby('topic').head(10)    \n",
    "    frex_wordlist = frex_topwords.groupby('topic').agg({'word': [lambda x: list(x)]})\n",
    "    frex_wordlist\n",
    "    return(frex_wordlist)\n",
    "\n",
    "def ecdf(arr):\n",
    "    \"\"\"Calculate the ECDF values for all elements in a 1D array.\"\"\"\n",
    "    return sp.stats.rankdata(arr, method='max') / arr.size\n",
    "\n",
    "\n",
    "def frex(mod, w=0.7):\n",
    "    \"\"\"Calculate FREX for all words in a topic model.\n",
    "\n",
    "    See R STM package for details.\n",
    "\n",
    "    \"\"\"\n",
    "    log_beta = np.log(mod.get_topics())\n",
    "    log_exclusivity = log_beta - logsumexp(log_beta, axis=0)\n",
    "    exclusivity_ecdf = np.apply_along_axis(ecdf, 1, log_exclusivity)\n",
    "    freq_ecdf = np.apply_along_axis(ecdf, 1, log_beta)\n",
    "    out = 1. / (w / exclusivity_ecdf + (1 - w) / freq_ecdf)\n",
    "    return out\n",
    "\n",
    "def create_topic_word_data(mod, corpus, frex_w=0.7):\n",
    "    \"\"\"Create data frame with topic-word information.\n",
    "\n",
    "    Parameters\n",
    "    ------------\n",
    "    mod: :class:`gensim.models.LdaModel`\n",
    "        Fitted LDA model\n",
    "    corpus: list\n",
    "        Corpus in the same input format as required by\n",
    "        :class:`gensim.models.LdaModel`.\n",
    "    frex_w: float\n",
    "        Weight to use in FREX calculations.\n",
    "        \n",
    "    Returns\n",
    "    ---------\n",
    "    :class:`pandas.DataFrame`\n",
    "        Data frame with the following columns.\n",
    "\n",
    "\n",
    "        :word: ``str``. Word\n",
    "        :word_id: ``float``. Word identifier\n",
    "        :topic: ``int``. Topic number\n",
    "        :prob: ``float``. Probability of the word conditional on a topic.\n",
    "        :frex: ``float``. FREX score\n",
    "        :lift: ``float``. Lift score\n",
    "        :relevance: ``float``. Relevance score\n",
    "\n",
    "    \"\"\"\n",
    "    id2word = mod.id2word\n",
    "    term_topics = pd.DataFrame(mod.get_topics())\n",
    "    term_topics.index.name = \"topic\"\n",
    "    term_topics.reset_index(inplace=True)\n",
    "    words = pd.DataFrame({\n",
    "        'word_id': list(id2word.keys()),\n",
    "        'word': list(id2word.values())\n",
    "        }, columns=(\"word_id\", \"word\"))\n",
    "    term_topics = pd.melt(term_topics, id_vars=[\"topic\"],\n",
    "                          var_name=\"word_id\",\n",
    "                          value_name=\"prob\").\\\n",
    "        merge(words, left_on=\"word_id\", right_on=\"word_id\")\n",
    "    term_topics['frex'] = np.ravel(frex(mod, w=frex_w), order=\"F\")\n",
    "    return term_topics\n",
    "\n",
    "\n",
    "def compute_coherence_values(corpus_fromdict_proc, tokenized_text, text_proc_dict):\n",
    "    # initialize possible # of topics in the range 2 to 10\n",
    "    limit=10; start=2; step=1;\n",
    "    coherence_values = []\n",
    "    model_list = []\n",
    "    \n",
    "    # create models for each number of topics and coherence model values\n",
    "    for num in range(start, limit, step):\n",
    "        ldamod = gensim.models.ldamodel.LdaModel(corpus_fromdict_proc, \n",
    "                                                 num_topics = num, id2word=text_proc_dict, \n",
    "                                                 passes=20, alpha = 'auto',\n",
    "                                                 per_word_topics = True, random_state = 0)    \n",
    "        model_list.append(ldamod)\n",
    "        coherencemodel = CoherenceModel(model=ldamod, texts=tokenized_text, dictionary=text_proc_dict, coherence='c_v')\n",
    "        coherence_values.append(coherencemodel.get_coherence())\n",
    "\n",
    "\n",
    "    # Show graph\n",
    "    x = range(start, limit, step)\n",
    "    print(x)\n",
    "    print(coherence_values)\n",
    "\n",
    "    plt.plot(x, coherence_values)\n",
    "    plt.xlabel(\"Num Topics\")\n",
    "    plt.ylabel(\"Coherence score\")\n",
    "    plt.legend((\"coherence_values\"), loc='best')\n",
    "    plt.show()\n",
    "\n",
    "    return model_list, coherence_values"
   ]
  },
  {
   "cell_type": "markdown",
   "id": "4358d5ff",
   "metadata": {},
   "source": [
    "### Compute the optimal number of topics to use in the model"
   ]
  },
  {
   "cell_type": "code",
   "execution_count": 10,
   "id": "c52bc633",
   "metadata": {},
   "outputs": [
    {
     "name": "stdout",
     "output_type": "stream",
     "text": [
      "range(2, 10)\n",
      "[0.27434511439149667, 0.3246528252353102, 0.31043234404799597, 0.292442096500731, 0.2841488638435777, 0.302894882749508, 0.2935461413780179, 0.2949770208332661]\n"
     ]
    },
    {
     "data": {
      "image/png": "[encoded data removed]",
      "text/plain": [
       "<Figure size 432x288 with 1 Axes>"
      ]
     },
     "metadata": {
      "needs_background": "light"
     },
     "output_type": "display_data"
    },
    {
     "data": {
      "text/plain": [
       "([<gensim.models.ldamodel.LdaModel at 0x7fb500329dc0>,\n",
       "  <gensim.models.ldamodel.LdaModel at 0x7fb4f8f40d60>,\n",
       "  <gensim.models.ldamodel.LdaModel at 0x7fb4f8f0e790>,\n",
       "  <gensim.models.ldamodel.LdaModel at 0x7fb4f8f0e130>,\n",
       "  <gensim.models.ldamodel.LdaModel at 0x7fb4f8f16070>,\n",
       "  <gensim.models.ldamodel.LdaModel at 0x7fb4f8f01220>,\n",
       "  <gensim.models.ldamodel.LdaModel at 0x7fb4f8f3cbe0>,\n",
       "  <gensim.models.ldamodel.LdaModel at 0x7fb4f8f408e0>],\n",
       " [0.27434511439149667,\n",
       "  0.3246528252353102,\n",
       "  0.31043234404799597,\n",
       "  0.292442096500731,\n",
       "  0.2841488638435777,\n",
       "  0.302894882749508,\n",
       "  0.2935461413780179,\n",
       "  0.2949770208332661])"
      ]
     },
     "execution_count": 10,
     "metadata": {},
     "output_type": "execute_result"
    }
   ],
   "source": [
    "# prepare data for topic modeling and coherence test\n",
    "tokenized_text, text_proc_dict, corpus_fromdict_proc = prep_topicdata(open_data_need)\n",
    "\n",
    "# compute coherence values for different #s of topics\n",
    "compute_coherence_values(corpus_fromdict_proc, tokenized_text, text_proc_dict)"
   ]
  },
  {
   "cell_type": "markdown",
   "id": "9b405752",
   "metadata": {},
   "source": [
    "> From the graph, we can tell that our model performs relatively better when the **number of topics** is either 3 or 7"
   ]
  },
  {
   "cell_type": "markdown",
   "id": "d8cb4cc0",
   "metadata": {},
   "source": [
    "### Test model with the computed optimal number of topics"
   ]
  },
  {
   "cell_type": "code",
   "execution_count": 11,
   "id": "8bd10492",
   "metadata": {
    "scrolled": false
   },
   "outputs": [
    {
     "name": "stdout",
     "output_type": "stream",
     "text": [
      "                                                                                top words\n",
      "topic                                                                                    \n",
      "0            [servic, commun, answer, provid, person, child, involv, avail, need, respit]\n",
      "1      [health, listen, mental, individu, member, parent, caregiv, there, inform, famili]\n",
      "2        [program, peopl, option, support, patient, educ, advoc, treatment, help, enough]\n",
      "\n",
      "                                                                                       top words\n",
      "topic                                                                                           \n",
      "0                  [servic, provid, offer, would, need, follow, children, there, famili, inform]\n",
      "1                 [answer, health, mental, children, disabl, respit, child, need, there, assist]\n",
      "2              [patient, program, resourc, support, educ, respit, avail, treatment, would, work]\n",
      "3                [peopl, option, listen, parent, advoc, medic, behavior, treatment, educ, there]\n",
      "4                  [better, crisi, avail, caregiv, train, inform, work, access, advoc, individu]\n",
      "5      [individu, famili, understand, member, support, listen, involv, provid, treatment, train]\n",
      "6                 [commun, help, enough, behavior, access, person, child, there, system, differ]\n"
     ]
    }
   ],
   "source": [
    "# perform topic modelling with two topics\n",
    "three_topics = pd.DataFrame(topic_model(tokenized_text, text_proc_dict, corpus_fromdict_proc, 3))\n",
    "\n",
    "# perform topic modelling with two topics\n",
    "seven_topics = pd.DataFrame(topic_model(tokenized_text, text_proc_dict, corpus_fromdict_proc, 7))\n",
    "\n",
    "three_topics.columns = [\"top words\"]\n",
    "seven_topics.columns = [\"top words\"]\n",
    "\n",
    "# display output\n",
    "print(three_topics)\n",
    "print()\n",
    "print(seven_topics)"
   ]
  }
 ],
 "metadata": {
  "colab": {
   "name": "FinalProject.ipynb",
   "provenance": []
  },
  "kernelspec": {
   "display_name": "Python 3 (ipykernel)",
   "language": "python",
   "name": "python3"
  },
  "language_info": {
   "codemirror_mode": {
    "name": "ipython",
    "version": 3
   },
   "file_extension": ".py",
   "mimetype": "text/x-python",
   "name": "python",
   "nbconvert_exporter": "python",
   "pygments_lexer": "ipython3",
   "version": "3.9.7"
  }
 },
 "nbformat": 4,
 "nbformat_minor": 5
}
